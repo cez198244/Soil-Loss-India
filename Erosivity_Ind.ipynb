{
 "cells": [
  {
   "cell_type": "code",
   "execution_count": null,
   "metadata": {},
   "outputs": [],
   "source": [
    "#Import Required Libraries\n",
    "import pandas as pd\n",
    "import matplotlib.pyplot as plt\n",
    "import numpy as np\n",
    "import geopandas as gpd\n",
    "import xarray as xr\n",
    "import salem"
   ]
  },
  {
   "cell_type": "markdown",
   "metadata": {},
   "source": [
    "Input Data for Rainfall erosivity Factor and Indices are \n",
    "\n",
    "Hourly (IMDAA) \n",
    "and Daily (IMD and CHIRPS) rainfall DAta"
   ]
  },
  {
   "cell_type": "markdown",
   "metadata": {},
   "source": [
    "ALl the input .nc data avaialble in 'imdaaa', 'imd', and 'chirps' folders"
   ]
  },
  {
   "cell_type": "markdown",
   "metadata": {},
   "source": [
    "# Rainfall Erosivity Factor"
   ]
  },
  {
   "cell_type": "markdown",
   "metadata": {},
   "source": [
    "Our target is to calculate long term annual average rainfall erosivity factor "
   ]
  },
  {
   "cell_type": "code",
   "execution_count": null,
   "metadata": {},
   "outputs": [],
   "source": [
    "# To open all the .nc files of 'imdaa' folder altogether\n",
    "\n",
    "ncfile = ('imdaa/*.nc')\n",
    "ncdat = xr.open_mfdataset(ncfile)\n"
   ]
  },
  {
   "cell_type": "code",
   "execution_count": null,
   "metadata": {},
   "outputs": [],
   "source": [
    "#Import Indian Political Boubdary Shapfile and clip the files for India only ((Optional))\n",
    "\n",
    "indiashp=gpd.read_file('Shapefiles/Indian_states.shp')\n",
    "ncdat_india = ncdat.salem.subset(shape=indiashp).salem.roi(shape=indiashp)"
   ]
  },
  {
   "cell_type": "markdown",
   "metadata": {},
   "source": [
    "Note: IMDAA Hourly data used for R-factor, rainfall intensity is in per hour (i=1 hour), event= 1 hour, \n",
    "I60= Intensity in 60 minutes, I30= Rainfall intensity in 30 minutes, EI60=Rainfall Intensity in 60 minutes\n"
   ]
  },
  {
   "cell_type": "markdown",
   "metadata": {},
   "source": [
    "#Step to Calculate R-factor\n",
    "\n",
    "1) Calculate the kinetic energy of the event (Ek)\n",
    "(There are six empirical equations are there to calculate Ek) (Raj et al 2022)\n",
    "\n",
    "2) Calculate the Rainfall Intensity for 60 minutes (EI60)\n",
    "(Here EI60 was considered as EI30 as no sub-hourly data was available)\n",
    "\n",
    "3) Calculate Rainfall erosivity factor the event (Rk)\n",
    "\n",
    "4) Calculate Yearly rainfall erosivity factor (R-factor) for n years \n",
    "(n should be greater than 20)"
   ]
  },
  {
   "cell_type": "markdown",
   "metadata": {},
   "source": [
    "For Example:\n",
    "\n",
    "Van Dijk et al 2002\n",
    "\n",
    "ek = 0.283*(1-0.52*exp(-0.042i));\n",
    "(i= rainfall intensity)"
   ]
  },
  {
   "cell_type": "code",
   "execution_count": null,
   "metadata": {},
   "outputs": [],
   "source": [
    "#Van Dijk et al 2002\n",
    "#er = 0.283*(1-0.52*exp(-0.042i))\n",
    "\n",
    "a1 = -0.042 * ncdat_india['APCP_sfc']\n",
    "b1 = np.exp(a1)\n",
    "c1 = (1 - 0.52 * b1)\n",
    "\n",
    "ek = 0.283 * c1\n",
    "\n",
    "I60 = ncdat_india['APCP_sfc']\n",
    "\n",
    "EI60 = ek  * I60\n",
    "\n",
    "Rk = EI60 * I60"
   ]
  },
  {
   "cell_type": "code",
   "execution_count": null,
   "metadata": {},
   "outputs": [],
   "source": [
    "#sum of erosive events yearwise\n",
    "Ryr = Rk.resample(time='y',label='right').sum()\n",
    "\n",
    "#To convert chunks into array\n",
    "Ryr = Ryr.compute()"
   ]
  },
  {
   "cell_type": "code",
   "execution_count": null,
   "metadata": {},
   "outputs": [],
   "source": [
    "#Mean of yearwise R-values\n",
    "xx = Ryr.mean('time')"
   ]
  },
  {
   "cell_type": "code",
   "execution_count": null,
   "metadata": {},
   "outputs": [],
   "source": [
    "#Subsetting for India\n",
    "R_ind = xx.salem.subset(shape=indiashp).salem.roi(shape=indiashp)"
   ]
  },
  {
   "cell_type": "code",
   "execution_count": null,
   "metadata": {},
   "outputs": [],
   "source": [
    "#Plotting and Saving\n",
    "R_ind.to_nc('R-factor_India.nc')\n",
    "R_ind.plot()"
   ]
  },
  {
   "cell_type": "code",
   "execution_count": null,
   "metadata": {},
   "outputs": [],
   "source": []
  },
  {
   "cell_type": "markdown",
   "metadata": {},
   "source": [
    "# Rainfall Erosivity Indices"
   ]
  },
  {
   "cell_type": "markdown",
   "metadata": {},
   "source": [
    "All the three datasets were used to estimate FI and MFI:\n",
    "\n",
    "IMDAA Hourly\n",
    "\n",
    "IMD Daily\n",
    "\n",
    "CHIRPS Daily \n",
    "\n"
   ]
  },
  {
   "cell_type": "markdown",
   "metadata": {},
   "source": [
    "# FI Calculation"
   ]
  },
  {
   "cell_type": "markdown",
   "metadata": {},
   "source": [
    "Using IMD Daily Data"
   ]
  },
  {
   "cell_type": "code",
   "execution_count": null,
   "metadata": {},
   "outputs": [],
   "source": [
    "# Open all .nc files in imd folder altogether to process\n",
    "\n",
    "ncfile = ('imd/*.nc')\n",
    "ncdat = xr.open_mfdataset(ncfile)"
   ]
  },
  {
   "cell_type": "markdown",
   "metadata": {},
   "source": [
    "Fournier Index\n",
    "FI= [(p_max)^2]/P\n",
    "\n",
    "FI = p^2 / P\n",
    "where:\n",
    "FI = Fourier Index (Rainfall Erosivity Index)\n",
    "p = Rainfall of the wettest month in the year\n",
    "P = Annual rainfall\n"
   ]
  },
  {
   "cell_type": "code",
   "execution_count": null,
   "metadata": {},
   "outputs": [],
   "source": [
    "# Resample it to monthly, yearly and get max_monthly rainfall\n",
    "\n",
    "nc_monthly=ncdat.resample(time='m').sum()\n",
    "\n",
    "nc_month_max=nc_monthly.resample(time='y').max()\n",
    "monthly_max_sq =  (nc_month_max * nc_month_max)\n",
    "nc_month_max_year = monthly_max_sq.sum('time')\n",
    "\n",
    "nc_yearly=ncdat.resample(time='y').sum()\n",
    "nc_year_sum = nc_yearly.sum('time')  #Sum of yearly mean for all years\n"
   ]
  },
  {
   "cell_type": "code",
   "execution_count": null,
   "metadata": {},
   "outputs": [],
   "source": [
    "# Final FI \n",
    "fidat = (nc_month_max_year/nc_year_sum)\n",
    "\n",
    "# Save FI\n",
    "fidat.to_nc('FI_IMD.nc')"
   ]
  },
  {
   "cell_type": "code",
   "execution_count": null,
   "metadata": {},
   "outputs": [],
   "source": []
  },
  {
   "cell_type": "markdown",
   "metadata": {},
   "source": [
    "# Modified Fournier Index"
   ]
  },
  {
   "cell_type": "markdown",
   "metadata": {},
   "source": [
    "MFI = (1/P) * sum(p_i^2)\n",
    "\n",
    "\n",
    "where:\n",
    "\n",
    "\n",
    "MFI = Modified Fournier Index; \n",
    "P = Annual rainfall;\n",
    "p_i = Monthly rainfall for month i;\n",
    "sum is taken over all 12 months of the year\n"
   ]
  },
  {
   "cell_type": "code",
   "execution_count": null,
   "metadata": {},
   "outputs": [],
   "source": [
    "# Open all .nc files in imd folder altogether to process\n",
    "\n",
    "ncfile = ('imd/*.nc')\n",
    "ncdat = xr.open_mfdataset(ncfile)"
   ]
  },
  {
   "cell_type": "code",
   "execution_count": null,
   "metadata": {},
   "outputs": [],
   "source": [
    "# resample as monthly and yearly rainfall \n",
    "\n",
    "nc_month_mean=ncdat.resample(time='m').mean()\n",
    "nc_year_mean=ncdat.resample(time='y').mean()"
   ]
  },
  {
   "cell_type": "code",
   "execution_count": null,
   "metadata": {},
   "outputs": [],
   "source": [
    "def calcMFI(ncdat):\n",
    "    '''Calculate Modified Fournier Indices (MFI)\n",
    "    \n",
    "    Parameters:\n",
    "        ncdat: xarray dataset\n",
    "    \n",
    "    Returns:\n",
    "        mfidat: A netCDF file with MFI values\n",
    "    '''\n",
    "    nc_month_sq = np.square(nc_month_mean).sum('time') #Square of all mean monthly values and sum of all years\n",
    "    nc_year_sum = nc_year_mean.sum('time')  #Sum of yearly mean of all years\n",
    "    mfidat = (nc_month_sq/nc_year_sum)\n",
    "    \n",
    "    return(mfidat)"
   ]
  },
  {
   "cell_type": "code",
   "execution_count": null,
   "metadata": {},
   "outputs": [],
   "source": [
    "# Calculate and Plot MFI\n",
    "\n",
    "#MFI\n",
    "mfi = calcMFI(ncdat)\n",
    "mfi['rf'].plot(levels=10, cmap = 'RdYlBu_r', cbar_kwargs={'label': 'Modified Fournier Index'})\n",
    "plt.title('Modified Fournier Index [1901-2019]')"
   ]
  },
  {
   "cell_type": "code",
   "execution_count": null,
   "metadata": {},
   "outputs": [],
   "source": [
    "# Save FI\n",
    "mfi.to_nc('MFI_IMD.nc')"
   ]
  },
  {
   "cell_type": "markdown",
   "metadata": {},
   "source": [
    "NOTE: YOU CAN USE THE SAME FOR IMDAA hourly and CHIRPS Daily data"
   ]
  },
  {
   "cell_type": "code",
   "execution_count": null,
   "metadata": {},
   "outputs": [],
   "source": []
  }
 ],
 "metadata": {
  "kernelspec": {
   "display_name": "myenv1",
   "language": "python",
   "name": "python3"
  },
  "language_info": {
   "name": "python",
   "version": "3.9.7"
  }
 },
 "nbformat": 4,
 "nbformat_minor": 2
}
