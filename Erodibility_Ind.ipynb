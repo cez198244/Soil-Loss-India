{
 "cells": [
  {
   "cell_type": "code",
   "execution_count": 1,
   "metadata": {},
   "outputs": [],
   "source": [
    "import pandas as pd"
   ]
  },
  {
   "cell_type": "markdown",
   "metadata": {},
   "source": [
    "# Data Preparation"
   ]
  },
  {
   "cell_type": "markdown",
   "metadata": {},
   "source": [
    "% of sand, silt, clay, and SOC were downloaded from SoilGrids of ISRIC (International Soil Reference and Information Centre) (https://soilgrids.org/) (Hengl et al., 2017). "
   ]
  },
  {
   "cell_type": "markdown",
   "metadata": {},
   "source": [
    "We Need Soil Structure Code (SSC)  and Soil Permeability Code (SPC) for K-factor calculation.;\n",
    "\n",
    "To get SSC and SPC we need comprehensive texture class map (Raj et al. 2023). "
   ]
  },
  {
   "cell_type": "markdown",
   "metadata": {},
   "source": [
    "You can create SSC and SPC code values in ARC-MAP by referring the conditions of %sand, silt and clay using the NRCS-USDA soil texture classification system. \n",
    "\n",
    "first make texture class code in ARCMAP using conditions mentioned in the paper (Raj et al. 2023) \n",
    "\n",
    "and then get structure (s) and permeability (p) codes"
   ]
  },
  {
   "cell_type": "markdown",
   "metadata": {},
   "source": []
  },
  {
   "cell_type": "code",
   "execution_count": null,
   "metadata": {},
   "outputs": [],
   "source": [
    "# Import Libraries\n",
    "import numpy as np\n",
    "import pandas as pd\n",
    "import geopandas as gpd\n",
    "\n",
    "import matplotlib.pyplot as plt\n",
    "import os\n",
    "import netCDF4\n",
    "from osgeo import gdal\n",
    "import xarray as xr"
   ]
  },
  {
   "cell_type": "code",
   "execution_count": null,
   "metadata": {},
   "outputs": [],
   "source": [
    "# Defining all input data with variable names\n",
    "\n",
    "sn = 'sand_india_0-30.nc'\n",
    "cl = 'clay_india_0-30.nc'\n",
    "si = 'silt_india_0-30.nc'\n",
    "soc = 'soc_india_0-30.nc'\n",
    "s1 = 'Stucture_code_Ind.nc'\n",
    "p1 = 'Permeability_code_Ind.nc'"
   ]
  },
  {
   "cell_type": "code",
   "execution_count": null,
   "metadata": {},
   "outputs": [],
   "source": [
    "# Opening All input datasets\n",
    "\n",
    "nc1 = xr.open_dataset(s1)\n",
    "nc2 = xr.open_dataset(p1)\n",
    "nc3 = xr.open_dataset(sn)\n",
    "nc4 = xr.open_dataset(cl)\n",
    "nc5 = xr.open_dataset(si)\n",
    "nc6 = xr.open_dataset(soc)\n"
   ]
  },
  {
   "cell_type": "code",
   "execution_count": null,
   "metadata": {},
   "outputs": [],
   "source": [
    "#since values stored in the all datasets have variables called 'Band1'; Select to proceed further\n",
    "\n",
    "b1 = nc1[\"Band1\"]\n",
    "b2 = nc2[\"Band1\"]\n",
    "b3 = nc3[\"Band1\"]\n",
    "b4 = nc4[\"Band1\"]\n",
    "b5 = nc5[\"Band1\"]\n",
    "b6 = nc6[\"Band1\"]"
   ]
  },
  {
   "cell_type": "code",
   "execution_count": null,
   "metadata": {},
   "outputs": [],
   "source": [
    "# to get the soil particle values in percentage divide SAND, SILT and CLAY by 10 and SOC by 1000, s and p are soil structure and permeability codes.\n",
    "\n",
    "SAND = (b3/10) \n",
    "CLAY = (b4/10)\n",
    "SILT = (b5/10)\n",
    "SOC = (b6/100)\n",
    "SOM = (SOC*2)\n",
    "s = b1\n",
    "p = b2"
   ]
  },
  {
   "cell_type": "markdown",
   "metadata": {},
   "source": [
    "K factor using Nomograph Approach"
   ]
  },
  {
   "cell_type": "code",
   "execution_count": null,
   "metadata": {},
   "outputs": [],
   "source": [
    "# K Factor Using Nomograph Approach\n",
    "\n",
    "vfs = (0.2* SAND)\n",
    "M = (SILT + vfs) * (100 - CLAY)\n",
    "\n",
    "\n",
    "k1 = ((2.1 * M)**(1.14))*(10**(-4))*(12 - SOM)\n",
    "k2 = 3.25 * (s-2)\n",
    "k3 = 2.5 *(p - 3)\n"
   ]
  },
  {
   "cell_type": "code",
   "execution_count": null,
   "metadata": {},
   "outputs": [],
   "source": [
    "# Final K factor using Nomograph Approach\n",
    "\n",
    "Knomo1 = ((k1 + k2 + k3)/100)"
   ]
  },
  {
   "cell_type": "code",
   "execution_count": null,
   "metadata": {},
   "outputs": [],
   "source": [
    "# To Save \n",
    "Knomo.to_netcdf('Knomo.nc')"
   ]
  },
  {
   "cell_type": "code",
   "execution_count": null,
   "metadata": {},
   "outputs": [],
   "source": []
  },
  {
   "cell_type": "markdown",
   "metadata": {},
   "source": [
    "K factor using EPIC Approach"
   ]
  },
  {
   "cell_type": "code",
   "execution_count": null,
   "metadata": {},
   "outputs": [],
   "source": [
    "# Input features\n",
    "\n",
    "SAND = (b3/10) \n",
    "CLAY = (b4/10)\n",
    "SILT = (b5/10)"
   ]
  },
  {
   "cell_type": "code",
   "execution_count": null,
   "metadata": {},
   "outputs": [],
   "source": [
    "# part of Kepic formula\n",
    "\n",
    "A = (0.2 + (0.3 * (np.exp(-0.0256 * ((SAND * (1-(SILT/100))))))))\n",
    "\n",
    "B1 = ((SILT/(CLAY+SILT)))\n",
    "B = (B1 ** (0.3))\n",
    "\n",
    "C = (1 - (0.25*(SOC/((SOC + np.exp((3.72 - (2.95 * SOC))))))))\n",
    "\n",
    "SN = (1 - (SAND/100))\n",
    "\n",
    "D = (1 - (0.7 * SN / ((SN + (np.exp((-5.51 + (22.9 * SN))))))))"
   ]
  },
  {
   "cell_type": "code",
   "execution_count": null,
   "metadata": {},
   "outputs": [],
   "source": [
    "\n",
    "#Final K-factor using EPIC approach\n",
    "\n",
    "KEPIC = (A * B * C * D)"
   ]
  },
  {
   "cell_type": "code",
   "execution_count": null,
   "metadata": {},
   "outputs": [],
   "source": [
    "\n",
    "#save \n",
    "\n",
    "KEPIC.to_netcdf('KEPIC.nc')"
   ]
  },
  {
   "cell_type": "markdown",
   "metadata": {},
   "source": [
    "# Erodibility Indices"
   ]
  },
  {
   "cell_type": "markdown",
   "metadata": {},
   "source": [
    "Clay Ratio"
   ]
  },
  {
   "cell_type": "code",
   "execution_count": null,
   "metadata": {},
   "outputs": [],
   "source": [
    "#CR\n",
    "\n",
    "CR = (SAND+SILT)/(CLAY)"
   ]
  },
  {
   "cell_type": "markdown",
   "metadata": {},
   "source": [
    "Modified Clay Ratio"
   ]
  },
  {
   "cell_type": "code",
   "execution_count": null,
   "metadata": {},
   "outputs": [],
   "source": [
    "#MCR\n",
    "\n",
    "MCR = (SAND+SILT)/(CLAY+SOM)"
   ]
  },
  {
   "cell_type": "markdown",
   "metadata": {},
   "source": [
    "Critical Level of Organic Matter"
   ]
  },
  {
   "cell_type": "code",
   "execution_count": null,
   "metadata": {},
   "outputs": [],
   "source": [
    "#CLOM\n",
    "\n",
    "CLOM = (SOM)/(CLAY+SILT)"
   ]
  },
  {
   "cell_type": "code",
   "execution_count": null,
   "metadata": {},
   "outputs": [],
   "source": [
    "# to save indices\n",
    "\n",
    "CR.to_netcdf('CR_fin.nc')\n",
    "MCR.to_netcdf('MCR_fin.nc')\n",
    "CLOM.to_netcdf('CLOM_fin.nc')"
   ]
  },
  {
   "cell_type": "code",
   "execution_count": null,
   "metadata": {},
   "outputs": [],
   "source": []
  },
  {
   "cell_type": "code",
   "execution_count": null,
   "metadata": {},
   "outputs": [],
   "source": []
  },
  {
   "cell_type": "code",
   "execution_count": null,
   "metadata": {},
   "outputs": [],
   "source": []
  },
  {
   "cell_type": "code",
   "execution_count": null,
   "metadata": {},
   "outputs": [],
   "source": []
  },
  {
   "cell_type": "code",
   "execution_count": null,
   "metadata": {},
   "outputs": [],
   "source": []
  },
  {
   "cell_type": "code",
   "execution_count": null,
   "metadata": {},
   "outputs": [],
   "source": []
  },
  {
   "cell_type": "code",
   "execution_count": null,
   "metadata": {},
   "outputs": [],
   "source": []
  },
  {
   "cell_type": "code",
   "execution_count": null,
   "metadata": {},
   "outputs": [],
   "source": []
  }
 ],
 "metadata": {
  "kernelspec": {
   "display_name": "myenv1",
   "language": "python",
   "name": "python3"
  },
  "language_info": {
   "codemirror_mode": {
    "name": "ipython",
    "version": 3
   },
   "file_extension": ".py",
   "mimetype": "text/x-python",
   "name": "python",
   "nbconvert_exporter": "python",
   "pygments_lexer": "ipython3",
   "version": "3.9.7"
  }
 },
 "nbformat": 4,
 "nbformat_minor": 2
}
