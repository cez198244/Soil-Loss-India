{
 "cells": [
  {
   "cell_type": "markdown",
   "metadata": {},
   "source": [
    " To calculate Potential Soil Loss (PSL) we need R, K, LS, C and P fcators; and for Specific Sediment Yield (SSY) we need SDR and PSL"
   ]
  },
  {
   "cell_type": "code",
   "execution_count": null,
   "metadata": {},
   "outputs": [],
   "source": []
  },
  {
   "cell_type": "markdown",
   "metadata": {},
   "source": [
    "1. R and K Factors are taken from Indian Rainfall Erosivity Dataset and \tIndian Soil Erodibility Dataset"
   ]
  },
  {
   "cell_type": "code",
   "execution_count": null,
   "metadata": {},
   "outputs": [],
   "source": []
  },
  {
   "cell_type": "markdown",
   "metadata": {},
   "source": [
    "2. LS Factor can estimated using Multi-Error-Removed Improved-Terrain (MERIT) Hydro DEM using the LS-factor module of the Q-GIS Terrain Analysis – Hydrology tool.\n",
    "\n",
    "GO to the SAGA Module > Terrain Analysis-Hydrology > LS factor Field Based"
   ]
  },
  {
   "cell_type": "code",
   "execution_count": null,
   "metadata": {},
   "outputs": [],
   "source": []
  },
  {
   "cell_type": "markdown",
   "metadata": {},
   "source": [
    "3. C and P factor maps can be prepared from any LULC data.\n",
    "\n",
    "We used LULC map developed by NRSC, ISRO (National Remote Sensing Centre, Indian Remote Sensing Organization) Hyderabad, India (56 m) resolution.\n",
    "\n",
    "C and P values can be assigned pertaining to the individual LULC classes mentioned in RAj et al. (2024)\n",
    "\n",
    "Replace the C and P values mentioned in the paper with LULC code."
   ]
  },
  {
   "cell_type": "code",
   "execution_count": null,
   "metadata": {},
   "outputs": [],
   "source": []
  },
  {
   "cell_type": "markdown",
   "metadata": {},
   "source": [
    "NOTE: Since the resolution of the al the factors are not same\n",
    "\n",
    "Resample to a composite resolution of 250 m using ARC GIS"
   ]
  },
  {
   "cell_type": "code",
   "execution_count": null,
   "metadata": {},
   "outputs": [],
   "source": [
    "# Potential Soil Loss (PSL)\n",
    "\n",
    "PSL = R * K * LS * C * P \n",
    "\n",
    "# all factors are in .nc format\n",
    "\n",
    "#save\n",
    "PSL.to_netcdf('PSL_India.nc')"
   ]
  },
  {
   "cell_type": "code",
   "execution_count": null,
   "metadata": {},
   "outputs": [],
   "source": []
  },
  {
   "cell_type": "markdown",
   "metadata": {},
   "source": [
    "SDR Calculation using sdr module of InVest SDR model"
   ]
  },
  {
   "cell_type": "code",
   "execution_count": null,
   "metadata": {},
   "outputs": [],
   "source": [
    "import natcap.invest.sdr.sdr"
   ]
  },
  {
   "cell_type": "markdown",
   "metadata": {},
   "source": [
    "Define args"
   ]
  },
  {
   "cell_type": "markdown",
   "metadata": {},
   "source": [
    "Define args\n",
    "\n",
    "dem_path: DEM.tif;\n",
    "erosivity_path: R-factor.tif;\n",
    "erodibility_path: K-factor.tif;\n",
    "lulc_path: LULC.tif;\n",
    "watersheds_path: India.shp;\n",
    "\n",
    "\n",
    "biophysical_table_path\n",
    "<!-- LULC\tlucode\tusle_c\tusle_p\n",
    "Build up\t1\t0\t0\n",
    "Kharif\t2\t0.34\t0.49\n",
    "Rabi\t3\t0.34\t0.49\n",
    "Zaid\t4\t0.34\t0.49\n",
    "Double/triple\t5\t0.32\t0.49\n",
    "Current fellow\t6\t0.38\t1\n",
    "Plantation/orchad\t7\t0.18\t0.6\n",
    "Evergreen forest\t8\t0.03\t1\n",
    "Decidious forest\t9\t0.03\t1\n",
    "Scrub/deg forest\t10\t0.11\t0.29\n",
    "Littoral swamp\t11\t0.11\t1\n",
    "Grassland\t12\t0.16\t0.41\n",
    "Shifting cultivation\t13\t0.34\t0.49\n",
    "Wasteland\t14\t0.45\t1\n",
    "Rann\t15\t0.4\t1\n",
    "Water bodies max\t16\t0\t0\n",
    "Water bodies min\t17\t0\t0\n",
    "Snow Cover\t18\t0\t0 -->;\n",
    "\n",
    "\n",
    "threshold_flow_accumulation: Tp generate flow path (100);\n",
    "k_param: Generally 2;\n",
    "sdr_max: 1;\n",
    "ic_0_param: General (0.5);\n",
    "l_max: 2000 "
   ]
  },
  {
   "cell_type": "code",
   "execution_count": null,
   "metadata": {},
   "outputs": [],
   "source": [
    "args = {'workspace_dir':'output','dem_path':'utm_dtm_india.tif','erosivity_path':'R-factor_india.tif','erodibility_path':'K_updated_India_250.tif','lulc_path':'Ind_LULC_56m.tif','watersheds_path':'Indian_states.shp',\n",
    "'biophysical_table_path':'C_Pfact_lulc_class.csv','threshold_flow_accumulation':100,'k_param':2,'sdr_max':1,'ic_0_param':0.5,'l_max':2000}"
   ]
  },
  {
   "cell_type": "code",
   "execution_count": null,
   "metadata": {},
   "outputs": [],
   "source": [
    "natcap.invest.sdr.sdr.execute(args)\n",
    "\n",
    "# It will create output folder; from there get SDR.tif"
   ]
  },
  {
   "cell_type": "code",
   "execution_count": null,
   "metadata": {},
   "outputs": [],
   "source": []
  },
  {
   "cell_type": "markdown",
   "metadata": {},
   "source": [
    "HAving SDR.tif, multiply it with PSL.tif to get SSY.tif"
   ]
  },
  {
   "cell_type": "code",
   "execution_count": null,
   "metadata": {},
   "outputs": [],
   "source": [
    "SSY = PSL.tif * SDR.tif"
   ]
  },
  {
   "cell_type": "code",
   "execution_count": null,
   "metadata": {},
   "outputs": [],
   "source": []
  },
  {
   "cell_type": "markdown",
   "metadata": {},
   "source": [
    "Convert .tif to nc"
   ]
  },
  {
   "cell_type": "code",
   "execution_count": null,
   "metadata": {},
   "outputs": [],
   "source": [
    "import numpy as np\n",
    "import pandas as pd\n",
    "import geopandas as gpd\n",
    "\n",
    "import matplotlib.pyplot as plt\n",
    "import os\n",
    "import netCDF4\n",
    "from osgeo import gdal\n",
    "import xarray as xr"
   ]
  },
  {
   "cell_type": "code",
   "execution_count": null,
   "metadata": {},
   "outputs": [],
   "source": [
    "#open .tif file\n",
    "pp1 = 'pr_str_code/Permeability_code.tif'\n",
    "\n",
    "#convert and save\n",
    "st1 = gdal.Translate('Stucture_code_Ind.nc', ss1, format='NetCDF')"
   ]
  },
  {
   "cell_type": "markdown",
   "metadata": {},
   "source": [
    "Convert nc to tif"
   ]
  },
  {
   "cell_type": "code",
   "execution_count": null,
   "metadata": {},
   "outputs": [],
   "source": [
    "import numpy as np\n",
    "import pandas as pd\n",
    "import geopandas as gpd\n",
    "import matplotlib.pyplot as plt\n",
    "import os\n",
    "import netCDF4\n",
    "from osgeo import gdal\n",
    "import xarray as xr\n",
    "import math\n",
    "import rioxarray as rio "
   ]
  },
  {
   "cell_type": "code",
   "execution_count": null,
   "metadata": {},
   "outputs": [],
   "source": [
    "# Open .nc file\n",
    "nc_file = xr.open_dataset('sand_india_0-30.nc')"
   ]
  },
  {
   "cell_type": "code",
   "execution_count": null,
   "metadata": {},
   "outputs": [],
   "source": [
    "# Take variable \n",
    "bT = nc_file['Band1']"
   ]
  },
  {
   "cell_type": "code",
   "execution_count": null,
   "metadata": {},
   "outputs": [],
   "source": [
    "bT = bT.rio.set_spatial_dims('lon', 'lat')\n",
    "bT.rio.crs"
   ]
  },
  {
   "cell_type": "code",
   "execution_count": null,
   "metadata": {},
   "outputs": [],
   "source": [
    "#(Optional)\n",
    "bT.rio.set_crs(\"epsg:4326\")"
   ]
  },
  {
   "cell_type": "code",
   "execution_count": null,
   "metadata": {},
   "outputs": [],
   "source": [
    "#convert and save\n",
    "bT.rio.to_raster(r\"sand_ind_0-30.tiff\")"
   ]
  },
  {
   "cell_type": "code",
   "execution_count": null,
   "metadata": {},
   "outputs": [],
   "source": []
  },
  {
   "cell_type": "code",
   "execution_count": null,
   "metadata": {},
   "outputs": [],
   "source": []
  }
 ],
 "metadata": {
  "kernelspec": {
   "display_name": "myenv1",
   "language": "python",
   "name": "python3"
  },
  "language_info": {
   "codemirror_mode": {
    "name": "ipython",
    "version": 3
   },
   "file_extension": ".py",
   "mimetype": "text/x-python",
   "name": "python",
   "nbconvert_exporter": "python",
   "pygments_lexer": "ipython3",
   "version": "3.9.7"
  }
 },
 "nbformat": 4,
 "nbformat_minor": 2
}
